{
 "cells": [
  {
   "cell_type": "code",
   "execution_count": 26,
   "id": "f90ff0b1",
   "metadata": {},
   "outputs": [
    {
     "name": "stdout",
     "output_type": "stream",
     "text": [
      "Welcome to Sriw World of Coding\n"
     ]
    }
   ],
   "source": [
    "print(\"Welcome to Sriw World of Coding\")"
   ]
  },
  {
   "cell_type": "code",
   "execution_count": 27,
   "id": "d929aec3",
   "metadata": {},
   "outputs": [
    {
     "name": "stdout",
     "output_type": "stream",
     "text": [
      "Please subscribe to my channel\n"
     ]
    }
   ],
   "source": [
    "print(\"Please subscribe to my channel\")"
   ]
  },
  {
   "cell_type": "code",
   "execution_count": null,
   "id": "03f4af3c",
   "metadata": {},
   "outputs": [],
   "source": [
    "import pikepdf\n",
    "\n",
    "pdf_loc = input(\"PDF location: \")\n",
    "pdf_pass = input(\"PDF password: \")\n",
    "\n",
    "pdf = pikepdf.open(pdf_loc, password=pdf_pass)\n",
    "\n",
    "print(\"\\nProcessing...\\n\")\n",
    "\n",
    "pdf_save = input(\"Save file as: \")\n",
    "pdf_loc2 = input(\"Save location: \")\n",
    "\n",
    "pdf.save(pdf_loc2 + '\\\\' + pdf_save)\n",
    "\n",
    "print(\"The password successfully removed from the PDF\")\n",
    "print(\"\\aLocation: \" + pdf_loc + '\\\\' + pdf_save)"
   ]
  },
  {
   "cell_type": "code",
   "execution_count": null,
   "id": "830253ba",
   "metadata": {},
   "outputs": [],
   "source": []
  }
 ],
 "metadata": {
  "kernelspec": {
   "display_name": "Python 3 (ipykernel)",
   "language": "python",
   "name": "python3"
  },
  "language_info": {
   "codemirror_mode": {
    "name": "ipython",
    "version": 3
   },
   "file_extension": ".py",
   "mimetype": "text/x-python",
   "name": "python",
   "nbconvert_exporter": "python",
   "pygments_lexer": "ipython3",
   "version": "3.8.10"
  }
 },
 "nbformat": 4,
 "nbformat_minor": 5
}
